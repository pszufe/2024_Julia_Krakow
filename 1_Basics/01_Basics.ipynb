{
 "cells": [
  {
   "cell_type": "markdown",
   "metadata": {},
   "source": [
    "# Your first steps with Julia\n",
    "\n",
    "## Przemysław Szufel"
   ]
  },
  {
   "cell_type": "code",
   "execution_count": 1,
   "metadata": {},
   "outputs": [
    {
     "name": "stdout",
     "output_type": "stream",
     "text": [
      "Julia Version 1.10.5\n",
      "Commit 6f3fdf7b36 (2024-08-27 14:19 UTC)\n",
      "Build Info:\n",
      "  Official https://julialang.org/ release\n",
      "Platform Info:\n",
      "  OS: Windows (x86_64-w64-mingw32)\n",
      "  CPU: 12 × 13th Gen Intel(R) Core(TM) i7-1355U\n",
      "  WORD_SIZE: 64\n",
      "  LIBM: libopenlibm\n",
      "  LLVM: libLLVM-15.0.7 (ORCJIT, goldmont)\n",
      "Threads: 1 default, 0 interactive, 1 GC (on 12 virtual cores)\n",
      "Environment:\n",
      "  JULIA_DEPOT_PATH = c:\\JuliaPkg\\Julia-1.10.5\n",
      "  JULIA_HOME = c:\\Julia-1.10.5\n",
      "  JULIA_VERSION = Julia-1.10.5\n"
     ]
    }
   ],
   "source": [
    "# Ctrl + ENTER\n",
    "versioninfo()"
   ]
  },
  {
   "cell_type": "code",
   "execution_count": 2,
   "metadata": {},
   "outputs": [
    {
     "data": {
      "text/plain": [
       "\"C:\\\\AAABIBLIOTEKA\\\\NCN2\\\\SSC2024\\\\2024_Julia_Krakow\\\\1_Basics\""
      ]
     },
     "execution_count": 2,
     "metadata": {},
     "output_type": "execute_result"
    }
   ],
   "source": [
    "pwd()"
   ]
  },
  {
   "cell_type": "code",
   "execution_count": 3,
   "metadata": {},
   "outputs": [
    {
     "name": "stdout",
     "output_type": "stream",
     "text": [
      "\u001b[32m\u001b[1mStatus\u001b[22m\u001b[39m `C:\\AAABIBLIOTEKA\\NCN2\\SSC2024\\2024_Julia_Krakow\\Project.toml`\n",
      "  \u001b[90m[1520ce14] \u001b[39mAbstractTrees v0.4.5\n",
      "  \u001b[90m[69666777] \u001b[39mArrow v2.7.3\n",
      "  \u001b[90m[6e4b80f9] \u001b[39mBenchmarkTools v1.5.0\n",
      "  \u001b[90m[e28b5b4c] \u001b[39mBootstrap v2.4.0\n",
      "  \u001b[90m[336ed68f] \u001b[39mCSV v0.10.14\n",
      "  \u001b[90m[49dc2e85] \u001b[39mCalculus v0.5.1\n",
      "  \u001b[90m[324d7699] \u001b[39mCategoricalArrays v0.10.8\n",
      "  \u001b[90m[8be319e6] \u001b[39mChain v0.6.0\n",
      "  \u001b[90m[5ae59095] \u001b[39mColors v0.12.11\n",
      "  \u001b[90m[992eb4ea] \u001b[39mCondaPkg v0.2.23\n",
      "  \u001b[90m[a93c6f00] \u001b[39mDataFrames v1.6.1\n",
      "  \u001b[90m[31c24e10] \u001b[39mDistributions v0.25.111\n",
      "  \u001b[90m[da1fdf0e] \u001b[39mFreqTables v0.4.6\n",
      "  \u001b[90m[38e38edf] \u001b[39mGLM v1.9.0\n",
      "  \u001b[90m[28b8d3ca] \u001b[39mGR v0.73.7\n",
      "  \u001b[90m[86223c79] \u001b[39mGraphs v1.11.2\n",
      "  \u001b[90m[cd3eb016] \u001b[39mHTTP v1.10.8\n",
      "  \u001b[90m[7073ff75] \u001b[39mIJulia v1.25.0\n",
      "  \u001b[90m[682c06a0] \u001b[39mJSON v0.21.4\n",
      "  \u001b[90m[0f8b85d8] \u001b[39mJSON3 v1.14.0\n",
      "  \u001b[90m[b964fa9f] \u001b[39mLaTeXStrings v1.3.1\n",
      "  \u001b[90m[a1c25ae6] \u001b[39mOSMToolset v0.2.2\n",
      "  \u001b[90m[86cd37e6] \u001b[39mOpenStreetMapX v0.4.1\n",
      "  \u001b[90m[d3d4fdd0] \u001b[39mOpenStreetMapXPlot v0.2.0\n",
      "  \u001b[90m[8314cec4] \u001b[39mPGFPlotsX v1.6.1\n",
      "  \u001b[90m[d96e819e] \u001b[39mParameters v0.12.3\n",
      "  \u001b[90m[91a5bcdd] \u001b[39mPlots v1.40.8\n",
      "  \u001b[90m[6099a3de] \u001b[39mPythonCall v0.9.23\n",
      "  \u001b[90m[2913bbd2] \u001b[39mStatsBase v0.34.3\n",
      "  \u001b[90m[f3b207a7] \u001b[39mStatsPlots v0.15.7\n",
      "  \u001b[90m[fdbf4ff8] \u001b[39mXLSX v0.10.3\n",
      "  \u001b[90m[a5390f91] \u001b[39mZipFile v0.10.1\n"
     ]
    }
   ],
   "source": [
    "using Pkg\n",
    "Pkg.status() #pkg\"status\""
   ]
  },
  {
   "cell_type": "code",
   "execution_count": 4,
   "metadata": {},
   "outputs": [
    {
     "data": {
      "text/plain": [
       "f (generic function with 1 method)"
      ]
     },
     "execution_count": 4,
     "metadata": {},
     "output_type": "execute_result"
    }
   ],
   "source": [
    "function f(x,y)\n",
    "    x+y\n",
    "end\n",
    "\n",
    "f(x,y) = x+y"
   ]
  },
  {
   "cell_type": "code",
   "execution_count": 5,
   "metadata": {},
   "outputs": [
    {
     "data": {
      "text/plain": [
       "17.5"
      ]
     },
     "execution_count": 5,
     "metadata": {},
     "output_type": "execute_result"
    }
   ],
   "source": [
    "f(5,12.5)"
   ]
  },
  {
   "cell_type": "code",
   "execution_count": 6,
   "metadata": {},
   "outputs": [
    {
     "data": {
      "text/plain": [
       "CodeInfo(\n",
       "\u001b[90m1 ─\u001b[39m %1 = x + y\n",
       "\u001b[90m└──\u001b[39m      return %1\n",
       ")"
      ]
     },
     "execution_count": 6,
     "metadata": {},
     "output_type": "execute_result"
    }
   ],
   "source": [
    "@code_lowered f(5,6)"
   ]
  },
  {
   "cell_type": "code",
   "execution_count": 7,
   "metadata": {},
   "outputs": [
    {
     "data": {
      "text/plain": [
       "CodeInfo(\n",
       "\u001b[90m1 ─\u001b[39m %1 = Base.add_int(x, y)\u001b[36m::Int64\u001b[39m\n",
       "\u001b[90m└──\u001b[39m      return %1\n",
       ") => Int64"
      ]
     },
     "execution_count": 7,
     "metadata": {},
     "output_type": "execute_result"
    }
   ],
   "source": [
    "@code_typed f(4,5)"
   ]
  },
  {
   "cell_type": "code",
   "execution_count": 8,
   "metadata": {},
   "outputs": [
    {
     "name": "stdout",
     "output_type": "stream",
     "text": [
      "\u001b[90m;  @ In[4]:5 within `f`\u001b[39m\n",
      "\u001b[90m; Function Attrs: uwtable\u001b[39m\n",
      "\u001b[95mdefine\u001b[39m \u001b[36mi64\u001b[39m \u001b[93m@julia_f_1520\u001b[39m\u001b[33m(\u001b[39m\u001b[36mi64\u001b[39m \u001b[95msignext\u001b[39m \u001b[0m%0\u001b[0m, \u001b[36mi64\u001b[39m \u001b[95msignext\u001b[39m \u001b[0m%1\u001b[33m)\u001b[39m \u001b[0m#0 \u001b[33m{\u001b[39m\n",
      "\u001b[91mtop:\u001b[39m\n",
      "\u001b[90m; ┌ @ int.jl:87 within `+`\u001b[39m\n",
      "   \u001b[0m%2 \u001b[0m= \u001b[96m\u001b[1madd\u001b[22m\u001b[39m \u001b[36mi64\u001b[39m \u001b[0m%1\u001b[0m, \u001b[0m%0\n",
      "   \u001b[96m\u001b[1mret\u001b[22m\u001b[39m \u001b[36mi64\u001b[39m \u001b[0m%2\n",
      "\u001b[90m; └\u001b[39m\n",
      "\u001b[33m}\u001b[39m\n"
     ]
    }
   ],
   "source": [
    "@code_llvm f(5,6)"
   ]
  },
  {
   "cell_type": "code",
   "execution_count": 9,
   "metadata": {},
   "outputs": [
    {
     "name": "stdout",
     "output_type": "stream",
     "text": [
      "\t\u001b[0m.text\n",
      "\t\u001b[0m.file\t\u001b[0m\"f\"\n",
      "\t\u001b[0m.globl\t\u001b[0mjulia_f_1557                    \u001b[90m# -- Begin function julia_f_1557\u001b[39m\n",
      "\t\u001b[0m.p2align\t\u001b[33m4\u001b[39m\u001b[0m, \u001b[33m0x90\u001b[39m\n",
      "\t\u001b[0m.type\t\u001b[0mjulia_f_1557\u001b[0m,\u001b[0m@function\n",
      "\u001b[91mjulia_f_1557:\u001b[39m                           \u001b[90m# @julia_f_1557\u001b[39m\n",
      "\u001b[90m; ┌ @ In[4]:5 within `f`\u001b[39m\n",
      "\t\u001b[0m.cfi_startproc\n",
      "\u001b[90m# %bb.0:                                # %top\u001b[39m\n",
      "\t\u001b[96m\u001b[1mpush\u001b[22m\u001b[39m\t\u001b[0mrbp\n",
      "\t\u001b[0m.cfi_def_cfa_offset \u001b[33m16\u001b[39m\n",
      "\t\u001b[0m.cfi_offset \u001b[0mrbp\u001b[0m, \u001b[33m-16\u001b[39m\n",
      "\t\u001b[96m\u001b[1mmov\u001b[22m\u001b[39m\t\u001b[0mrbp\u001b[0m, \u001b[0mrsp\n",
      "\t\u001b[0m.cfi_def_cfa_register \u001b[0mrbp\n",
      "\u001b[90m; │┌ @ int.jl:87 within `+`\u001b[39m\n",
      "\t\u001b[96m\u001b[1mlea\u001b[22m\u001b[39m\t\u001b[0mrax\u001b[0m, \u001b[33m[\u001b[39m\u001b[0mrcx \u001b[0m+ \u001b[0mrdx\u001b[33m]\u001b[39m\n",
      "\t\u001b[96m\u001b[1mpop\u001b[22m\u001b[39m\t\u001b[0mrbp\n",
      "\t\u001b[96m\u001b[1mret\u001b[22m\u001b[39m\n",
      "\u001b[91m.Lfunc_end0:\u001b[39m\n",
      "\t\u001b[0m.size\t\u001b[0mjulia_f_1557\u001b[0m, \u001b[0m.Lfunc_end0-julia_f_1557\n",
      "\t\u001b[0m.cfi_endproc\n",
      "\u001b[90m; └└\u001b[39m\n",
      "                                        \u001b[90m# -- End function\u001b[39m\n",
      "\t\u001b[0m.section\t\u001b[0m\".note.GNU-stack\"\u001b[0m,\u001b[0m\"\"\u001b[0m,\u001b[0m@progbits\n"
     ]
    }
   ],
   "source": [
    "@code_native f(5,6)"
   ]
  },
  {
   "cell_type": "code",
   "execution_count": 10,
   "metadata": {},
   "outputs": [
    {
     "name": "stdout",
     "output_type": "stream",
     "text": [
      "\t\u001b[0m.text\n",
      "\t\u001b[0m.file\t\u001b[0m\"f\"\n",
      "\t\u001b[0m.globl\t\u001b[0mjulia_f_1561                    \u001b[90m# -- Begin function julia_f_1561\u001b[39m\n",
      "\t\u001b[0m.p2align\t\u001b[33m4\u001b[39m\u001b[0m, \u001b[33m0x90\u001b[39m\n",
      "\t\u001b[0m.type\t\u001b[0mjulia_f_1561\u001b[0m,\u001b[0m@function\n",
      "\u001b[91mjulia_f_1561:\u001b[39m                           \u001b[90m# @julia_f_1561\u001b[39m\n",
      "\u001b[90m; ┌ @ In[4]:5 within `f`\u001b[39m\n",
      "\t\u001b[0m.cfi_startproc\n",
      "\u001b[90m# %bb.0:                                # %top\u001b[39m\n",
      "\t\u001b[96m\u001b[1mpush\u001b[22m\u001b[39m\t\u001b[0mrbp\n",
      "\t\u001b[0m.cfi_def_cfa_offset \u001b[33m16\u001b[39m\n",
      "\t\u001b[0m.cfi_offset \u001b[0mrbp\u001b[0m, \u001b[33m-16\u001b[39m\n",
      "\t\u001b[96m\u001b[1mmov\u001b[22m\u001b[39m\t\u001b[0mrbp\u001b[0m, \u001b[0mrsp\n",
      "\t\u001b[0m.cfi_def_cfa_register \u001b[0mrbp\n",
      "\u001b[90m; │┌ @ promotion.jl:422 within `+`\u001b[39m\n",
      "\u001b[90m; ││┌ @ promotion.jl:393 within `promote`\u001b[39m\n",
      "\u001b[90m; │││┌ @ promotion.jl:370 within `_promote`\u001b[39m\n",
      "\u001b[90m; ││││┌ @ number.jl:7 within `convert`\u001b[39m\n",
      "\u001b[90m; │││││┌ @ float.jl:159 within `Float64`\u001b[39m\n",
      "\t\u001b[96m\u001b[1mvcvtsi2sd\u001b[22m\u001b[39m\t\u001b[0mxmm1\u001b[0m, \u001b[0mxmm1\u001b[0m, \u001b[0mrdx\n",
      "\u001b[90m; ││└└└└\u001b[39m\n",
      "\u001b[90m; ││ @ promotion.jl:422 within `+` @ float.jl:409\u001b[39m\n",
      "\t\u001b[96m\u001b[1mvaddsd\u001b[22m\u001b[39m\t\u001b[0mxmm0\u001b[0m, \u001b[0mxmm1\u001b[0m, \u001b[0mxmm0\n",
      "\t\u001b[96m\u001b[1mpop\u001b[22m\u001b[39m\t\u001b[0mrbp\n",
      "\t\u001b[96m\u001b[1mret\u001b[22m\u001b[39m\n",
      "\u001b[91m.Lfunc_end0:\u001b[39m\n",
      "\t\u001b[0m.size\t\u001b[0mjulia_f_1561\u001b[0m, \u001b[0m.Lfunc_end0-julia_f_1561\n",
      "\t\u001b[0m.cfi_endproc\n",
      "\u001b[90m; └└\u001b[39m\n",
      "                                        \u001b[90m# -- End function\u001b[39m\n",
      "\t\u001b[0m.section\t\u001b[0m\".note.GNU-stack\"\u001b[0m,\u001b[0m\"\"\u001b[0m,\u001b[0m@progbits\n"
     ]
    }
   ],
   "source": [
    "@code_native f(5.1,6)"
   ]
  },
  {
   "cell_type": "code",
   "execution_count": 11,
   "metadata": {},
   "outputs": [
    {
     "data": {
      "text/plain": [
       "4-element Vector{Int64}:\n",
       " 1\n",
       " 2\n",
       " 3\n",
       " 4"
      ]
     },
     "execution_count": 11,
     "metadata": {},
     "output_type": "execute_result"
    }
   ],
   "source": [
    "v = [1,2,3,4]"
   ]
  },
  {
   "cell_type": "code",
   "execution_count": 12,
   "metadata": {},
   "outputs": [
    {
     "data": {
      "text/plain": [
       "9-element Vector{Int64}:\n",
       "  3\n",
       "  6\n",
       "  9\n",
       " 12\n",
       " 15\n",
       " 18\n",
       " 21\n",
       " 24\n",
       " 27"
      ]
     },
     "execution_count": 12,
     "metadata": {},
     "output_type": "execute_result"
    }
   ],
   "source": [
    "v3 = [ 3x for x ∈ 1:9] #Python range(1,10)"
   ]
  },
  {
   "cell_type": "code",
   "execution_count": 13,
   "metadata": {},
   "outputs": [
    {
     "data": {
      "text/plain": [
       "4-element Vector{Int64}:\n",
       "  3\n",
       "  6\n",
       "  9\n",
       " 12"
      ]
     },
     "execution_count": 13,
     "metadata": {},
     "output_type": "execute_result"
    }
   ],
   "source": [
    "v3[1:4]"
   ]
  },
  {
   "cell_type": "code",
   "execution_count": 14,
   "metadata": {},
   "outputs": [
    {
     "data": {
      "text/plain": [
       "9-element Vector{Float64}:\n",
       " 1.0\n",
       " 1.4142135623730951\n",
       " 1.7320508075688772\n",
       " 2.0\n",
       " 2.23606797749979\n",
       " 2.449489742783178\n",
       " 2.6457513110645907\n",
       " 2.8284271247461903\n",
       " 3.0"
      ]
     },
     "execution_count": 14,
     "metadata": {},
     "output_type": "execute_result"
    }
   ],
   "source": [
    "v₄= [ √x₁ for x₁ ∈ 1:9]"
   ]
  },
  {
   "cell_type": "code",
   "execution_count": 15,
   "metadata": {},
   "outputs": [
    {
     "data": {
      "text/plain": [
       "Vector{Float64}\u001b[90m (alias for \u001b[39m\u001b[90mArray{Float64, 1}\u001b[39m\u001b[90m)\u001b[39m"
      ]
     },
     "execution_count": 15,
     "metadata": {},
     "output_type": "execute_result"
    }
   ],
   "source": [
    "typeof(v₄)"
   ]
  },
  {
   "cell_type": "code",
   "execution_count": 16,
   "metadata": {},
   "outputs": [
    {
     "data": {
      "text/plain": [
       "Float64"
      ]
     },
     "execution_count": 16,
     "metadata": {},
     "output_type": "execute_result"
    }
   ],
   "source": [
    "eltype(v₄)"
   ]
  },
  {
   "cell_type": "code",
   "execution_count": 17,
   "metadata": {},
   "outputs": [
    {
     "data": {
      "text/plain": [
       "1-element Vector{Int64}:\n",
       " 5"
      ]
     },
     "execution_count": 17,
     "metadata": {},
     "output_type": "execute_result"
    }
   ],
   "source": [
    "b = Int[]\n",
    "append!(b, 5)"
   ]
  },
  {
   "cell_type": "code",
   "execution_count": 18,
   "metadata": {},
   "outputs": [
    {
     "data": {
      "text/plain": [
       "Any[]"
      ]
     },
     "execution_count": 18,
     "metadata": {},
     "output_type": "execute_result"
    }
   ],
   "source": [
    "c = []"
   ]
  },
  {
   "cell_type": "code",
   "execution_count": 19,
   "metadata": {},
   "outputs": [
    {
     "data": {
      "text/plain": [
       "1 + 4im"
      ]
     },
     "execution_count": 19,
     "metadata": {},
     "output_type": "execute_result"
    }
   ],
   "source": [
    "c = Complex(1,4)"
   ]
  },
  {
   "cell_type": "code",
   "execution_count": 20,
   "metadata": {},
   "outputs": [
    {
     "data": {
      "text/plain": [
       "Complex{Int64}"
      ]
     },
     "execution_count": 20,
     "metadata": {},
     "output_type": "execute_result"
    }
   ],
   "source": [
    "typeof(c)"
   ]
  },
  {
   "cell_type": "code",
   "execution_count": 21,
   "metadata": {},
   "outputs": [
    {
     "name": "stdout",
     "output_type": "stream",
     "text": [
      "Complex{Int64}\n",
      "  re: Int64 1\n",
      "  im: Int64 4\n"
     ]
    }
   ],
   "source": [
    "dump(c)"
   ]
  },
  {
   "cell_type": "code",
   "execution_count": 22,
   "metadata": {},
   "outputs": [
    {
     "data": {
      "text/plain": [
       "1.0 + 4.0im"
      ]
     },
     "execution_count": 22,
     "metadata": {},
     "output_type": "execute_result"
    }
   ],
   "source": [
    "c2=Complex{Float64}(1,4)"
   ]
  },
  {
   "cell_type": "code",
   "execution_count": 23,
   "metadata": {},
   "outputs": [
    {
     "data": {
      "text/plain": [
       "ComplexF64\u001b[90m (alias for \u001b[39m\u001b[90mComplex{Float64}\u001b[39m\u001b[90m)\u001b[39m"
      ]
     },
     "execution_count": 23,
     "metadata": {},
     "output_type": "execute_result"
    }
   ],
   "source": [
    "typeof(c2)"
   ]
  },
  {
   "cell_type": "code",
   "execution_count": 24,
   "metadata": {},
   "outputs": [
    {
     "name": "stdout",
     "output_type": "stream",
     "text": [
      "ComplexF64\n",
      "  re: Float64 1.0\n",
      "  im: Float64 4.0\n"
     ]
    }
   ],
   "source": [
    "dump(c2)"
   ]
  },
  {
   "cell_type": "code",
   "execution_count": 25,
   "metadata": {},
   "outputs": [
    {
     "data": {
      "text/plain": [
       "ComplexF32\u001b[90m (alias for \u001b[39m\u001b[90mComplex{Float32}\u001b[39m\u001b[90m)\u001b[39m"
      ]
     },
     "execution_count": 25,
     "metadata": {},
     "output_type": "execute_result"
    }
   ],
   "source": [
    "c2=Complex{Float32}(1,4)\n",
    "typeof(c2)"
   ]
  },
  {
   "cell_type": "code",
   "execution_count": 26,
   "metadata": {},
   "outputs": [
    {
     "data": {
      "text/plain": [
       "3//4"
      ]
     },
     "execution_count": 26,
     "metadata": {},
     "output_type": "execute_result"
    }
   ],
   "source": [
    "x = 1//2 + 1//4"
   ]
  },
  {
   "cell_type": "code",
   "execution_count": 27,
   "metadata": {},
   "outputs": [
    {
     "data": {
      "text/plain": [
       "Rational{Int64}"
      ]
     },
     "execution_count": 27,
     "metadata": {},
     "output_type": "execute_result"
    }
   ],
   "source": [
    "typeof(x)"
   ]
  },
  {
   "cell_type": "code",
   "execution_count": 28,
   "metadata": {},
   "outputs": [
    {
     "name": "stdout",
     "output_type": "stream",
     "text": [
      "Rational{Int64}\n",
      "  num: Int64 3\n",
      "  den: Int64 4\n"
     ]
    }
   ],
   "source": [
    "dump(x)"
   ]
  },
  {
   "cell_type": "code",
   "execution_count": 29,
   "metadata": {},
   "outputs": [
    {
     "data": {
      "text/plain": [
       "Complex{Rational{Int128}}"
      ]
     },
     "execution_count": 29,
     "metadata": {},
     "output_type": "execute_result"
    }
   ],
   "source": [
    "c3=Complex{Rational{Int128}}(1//4,4)\n",
    "typeof(c3)"
   ]
  },
  {
   "cell_type": "markdown",
   "metadata": {},
   "source": [
    "### Data types"
   ]
  },
  {
   "cell_type": "code",
   "execution_count": 30,
   "metadata": {},
   "outputs": [
    {
     "data": {
      "text/plain": [
       "3.7"
      ]
     },
     "execution_count": 30,
     "metadata": {},
     "output_type": "execute_result"
    }
   ],
   "source": [
    "parse(Float64, \"3.7\")"
   ]
  },
  {
   "cell_type": "code",
   "execution_count": 31,
   "metadata": {},
   "outputs": [
    {
     "name": "stdout",
     "output_type": "stream",
     "text": [
      "Int64('a') = 97\n",
      "Int64(2.0) = 2\n",
      "Float64(1) = 1.0\n",
      "Bool(1) = true\n",
      "Bool(0) = false\n",
      "Char(89) = 'Y'\n",
      "zero(10.0) = 0.0\n",
      "one(Int64) = 1\n",
      "convert(Int64, 1.0) = 1\n",
      "parse(Int64, \"1\") = 1\n"
     ]
    },
    {
     "data": {
      "text/plain": [
       "1"
      ]
     },
     "execution_count": 31,
     "metadata": {},
     "output_type": "execute_result"
    }
   ],
   "source": [
    "@show Int64('a') \t# character to integer\n",
    "@show Int64(2.0) \t# float to integer\n",
    "#Int64(1.3) \t\t# inexact error\n",
    "#Int64(\"a\") \t\t# error no conversion possible\n",
    "@show Float64(1) \t# integer to float\n",
    "@show Bool(1) \t\t# boolean true\n",
    "@show Bool(0) \t\t# boolean false\n",
    "@show Char(89) \t\t# integer to char\n",
    "@show zero(10.0) \t# zero of  arg type (Float64)\n",
    "@show one(Int64) \t# one of type Int64\n",
    "@show convert(Int64, 1.0)\t# float to integer\n",
    "@show parse(Int64, \"1\")"
   ]
  },
  {
   "cell_type": "code",
   "execution_count": 32,
   "metadata": {},
   "outputs": [
    {
     "data": {
      "text/plain": [
       "5-element Vector{Union{Missing, Int64}}:\n",
       " 1\n",
       " 3\n",
       " 4\n",
       "  missing\n",
       " 7"
      ]
     },
     "execution_count": 32,
     "metadata": {},
     "output_type": "execute_result"
    }
   ],
   "source": [
    "using DataFrames\n",
    "\n",
    "u = [1,3,4,missing, 7]"
   ]
  },
  {
   "cell_type": "code",
   "execution_count": 33,
   "metadata": {},
   "outputs": [
    {
     "name": "stdout",
     "output_type": "stream",
     "text": [
      "Int <: Any = true\n",
      "Int <: Union{Int, Float64} = true\n",
      "typeof(nothing) = Nothing\n",
      "typeof(missing) = Missing\n"
     ]
    },
    {
     "data": {
      "text/plain": [
       "Missing"
      ]
     },
     "execution_count": 33,
     "metadata": {},
     "output_type": "execute_result"
    }
   ],
   "source": [
    "@show Int <: Any\n",
    "@show Int <: Union{Int, Float64}\n",
    "@show typeof(nothing)\n",
    "@show typeof(missing)\n"
   ]
  },
  {
   "cell_type": "code",
   "execution_count": 34,
   "metadata": {},
   "outputs": [
    {
     "name": "stdout",
     "output_type": "stream",
     "text": [
      "2x+6= 9.4 SUFFIX\n"
     ]
    },
    {
     "data": {
      "text/plain": [
       "Nothing"
      ]
     },
     "execution_count": 34,
     "metadata": {},
     "output_type": "execute_result"
    }
   ],
   "source": [
    "f(x) = println(\"2x+6= $(2x+6) \"*\"SUFFIX\")\n",
    "res = f(1.7)\n",
    "typeof(res)"
   ]
  },
  {
   "cell_type": "code",
   "execution_count": 35,
   "metadata": {},
   "outputs": [
    {
     "data": {
      "text/plain": [
       "2-element Vector{Union{Nothing, DataType}}:\n",
       " nothing\n",
       " Nothing"
      ]
     },
     "execution_count": 35,
     "metadata": {},
     "output_type": "execute_result"
    }
   ],
   "source": [
    "[nothing, Nothing]"
   ]
  },
  {
   "cell_type": "code",
   "execution_count": 36,
   "metadata": {},
   "outputs": [
    {
     "data": {
      "text/plain": [
       "f (generic function with 2 methods)"
      ]
     },
     "execution_count": 36,
     "metadata": {},
     "output_type": "execute_result"
    }
   ],
   "source": [
    "f(x,y) = x < y ? x-5 : x+5"
   ]
  },
  {
   "cell_type": "code",
   "execution_count": 37,
   "metadata": {},
   "outputs": [
    {
     "data": {
      "text/plain": [
       "2-element Vector{Int64}:\n",
       "  8\n",
       " 10"
      ]
     },
     "execution_count": 37,
     "metadata": {},
     "output_type": "execute_result"
    }
   ],
   "source": [
    ".+([1,2], [7,8])"
   ]
  },
  {
   "cell_type": "markdown",
   "metadata": {},
   "source": [
    "### Tuples"
   ]
  },
  {
   "cell_type": "code",
   "execution_count": 38,
   "metadata": {},
   "outputs": [
    {
     "data": {
      "text/plain": [
       "(a = 3, b = 8)"
      ]
     },
     "execution_count": 38,
     "metadata": {},
     "output_type": "execute_result"
    }
   ],
   "source": [
    "function f(a::Int)\n",
    "    #return (a=a, b=a+5)\n",
    "    return (;a, b=a+5)\n",
    "end\n",
    "res = f(3)\n"
   ]
  },
  {
   "cell_type": "code",
   "execution_count": 39,
   "metadata": {},
   "outputs": [
    {
     "data": {
      "text/plain": [
       ":(Base.NamedTuple{(:a, :b), Base.Tuple{Int64, Int64}})"
      ]
     },
     "execution_count": 39,
     "metadata": {},
     "output_type": "execute_result"
    }
   ],
   "source": [
    "@macroexpand @NamedTuple{a::Int64, b::Int64}"
   ]
  },
  {
   "cell_type": "code",
   "execution_count": 40,
   "metadata": {},
   "outputs": [
    {
     "data": {
      "text/plain": [
       "Tuple{String, Int64, Int64, Float64, Vector{Int64}}"
      ]
     },
     "execution_count": 40,
     "metadata": {},
     "output_type": "execute_result"
    }
   ],
   "source": [
    "t = (\"a\", 1, 1, 2.0, [1,2,3]) \t\n",
    "typeof(t)"
   ]
  },
  {
   "cell_type": "code",
   "execution_count": 41,
   "metadata": {},
   "outputs": [
    {
     "name": "stdout",
     "output_type": "stream",
     "text": [
      "() = ()\n",
      "(1,) = (1,)\n",
      "(\"a\", 1) = (\"a\", 1)\n",
      "('a', false)::Tuple{Char, Bool} = ('a', false)\n",
      "x = (1, 2, 3) = (1, 2, 3)\n",
      "x[1] = 1\n",
      "x[1:2] = (1, 2)\n",
      "(a, b) = x = (1, 2, 3)\n"
     ]
    },
    {
     "data": {
      "text/plain": [
       "(1, 2, 3)"
      ]
     },
     "execution_count": 41,
     "metadata": {},
     "output_type": "execute_result"
    }
   ],
   "source": [
    "@show () \t\t# empty tuple\n",
    "@show (1,) \t\t# one element tuple\n",
    "@show (\"a\", 1) \t# two element tuple\n",
    "@show ('a', false)::Tuple{Char, Bool} # tuple type assertion\n",
    "@show x = (1, 2, 3)\n",
    "@show x[1] \t\t# first element\n",
    "@show x[1:2] \t# (1, 2) (tuple)\n",
    "# x[4] \t\t# bounds error\n",
    "# x[1] = 1 \t# error - tuple is not mutable\n",
    "@show a, b = x \t# tuple unpacking a==1, b==2\n"
   ]
  },
  {
   "cell_type": "code",
   "execution_count": 42,
   "metadata": {},
   "outputs": [
    {
     "data": {
      "text/plain": [
       "Tuple{Int64, Float64}"
      ]
     },
     "execution_count": 42,
     "metadata": {},
     "output_type": "execute_result"
    }
   ],
   "source": [
    "t = (3, 3.0)\n",
    "typeof(t)"
   ]
  },
  {
   "cell_type": "code",
   "execution_count": 43,
   "metadata": {},
   "outputs": [
    {
     "data": {
      "text/plain": [
       "Tuple{Int64, String, Rational{Int64}}"
      ]
     },
     "execution_count": 43,
     "metadata": {},
     "output_type": "execute_result"
    }
   ],
   "source": [
    "k = (1, \"k\",  1//5)\n",
    "typeof(k)"
   ]
  },
  {
   "cell_type": "code",
   "execution_count": 44,
   "metadata": {},
   "outputs": [
    {
     "data": {
      "text/plain": [
       "2-element Vector{Int64}:\n",
       "  9\n",
       " 10"
      ]
     },
     "execution_count": 44,
     "metadata": {},
     "output_type": "execute_result"
    }
   ],
   "source": [
    "v = collect(3:10)\n",
    "v[7:end]"
   ]
  },
  {
   "cell_type": "markdown",
   "metadata": {},
   "source": [
    "### Matrices"
   ]
  },
  {
   "cell_type": "code",
   "execution_count": 45,
   "metadata": {},
   "outputs": [
    {
     "data": {
      "text/plain": [
       "3×4 Matrix{String}:\n",
       " #undef  #undef  #undef  #undef\n",
       " #undef  #undef  #undef  #undef\n",
       " #undef  #undef  #undef  #undef"
      ]
     },
     "execution_count": 45,
     "metadata": {},
     "output_type": "execute_result"
    }
   ],
   "source": [
    "Matrix{String}(undef ,3,4)"
   ]
  },
  {
   "cell_type": "code",
   "execution_count": 46,
   "metadata": {
    "scrolled": true
   },
   "outputs": [
    {
     "name": "stdout",
     "output_type": "stream",
     "text": [
      "Array{Any}(undef, 2, 3) = Any[#undef #undef #undef; #undef #undef #undef]\n",
      "zeros(5) = [0.0, 0.0, 0.0, 0.0, 0.0]\n",
      "ones(Int64, 2, 1) = [1; 1;;]\n",
      "(trues(3), falses(3)) = (Bool[1, 1, 1], Bool[0, 0, 0])\n",
      "x = range(1, stop = 2, length = 5) = 1.0:0.25:2.0\n",
      "collect(x) = [1.0, 1.25, 1.5, 1.75, 2.0]\n",
      "1:10 = 1:10\n",
      "1:2:10 = 1:2:9\n",
      "reshape(1:12, 3, 4) = [1 4 7 10; 2 5 8 11; 3 6 9 12]\n"
     ]
    },
    {
     "data": {
      "text/plain": [
       "3×4 reshape(::UnitRange{Int64}, 3, 4) with eltype Int64:\n",
       " 1  4  7  10\n",
       " 2  5  8  11\n",
       " 3  6  9  12"
      ]
     },
     "execution_count": 46,
     "metadata": {},
     "output_type": "execute_result"
    }
   ],
   "source": [
    "Array{Char}(undef, 2, 3, 4) \t# 2x3x4 array of Chars\n",
    "@show Array{Any}(undef, 2, 3) \t# 2x3 array of Any\n",
    "@show zeros(5) \t\t\t\t# vector of Float64 zeros\n",
    "@show ones(Int64, 2, 1) \t# 2x1 array of Int64 ones\n",
    "@show trues(3), falses(3) \t# tuple of vector of trues and of falses\n",
    "\n",
    "@show x = range(1, stop=2, length=5)  # iterator having 5 equally spaced elements\n",
    "@show collect(x) \t# converts iterator to vector\n",
    "@show 1:10 \t\t\t# iterable from 1 to 10\n",
    "@show 1:2:10 \t\t# iterable from 1 to 9 with 2 skip\n",
    "@show reshape(1:12, 3, 4)\t# 3x4 array filled with 1:12 values\n"
   ]
  },
  {
   "cell_type": "code",
   "execution_count": 47,
   "metadata": {},
   "outputs": [
    {
     "data": {
      "text/plain": [
       "Matrix\u001b[90m (alias for \u001b[39m\u001b[90mArray{T, 2} where T\u001b[39m\u001b[90m)\u001b[39m"
      ]
     },
     "execution_count": 47,
     "metadata": {},
     "output_type": "execute_result"
    }
   ],
   "source": [
    "Matrix"
   ]
  },
  {
   "cell_type": "code",
   "execution_count": 48,
   "metadata": {},
   "outputs": [
    {
     "data": {
      "text/plain": [
       "2×3 Matrix{Int64}:\n",
       " 8084067366094254176  6949177370342355040  27074788521435184\n",
       " 6949160192081678432  6931145587411673136       413933764704"
      ]
     },
     "execution_count": 48,
     "metadata": {},
     "output_type": "execute_result"
    }
   ],
   "source": [
    "y = Matrix{Int64}(undef, 2, 3)"
   ]
  },
  {
   "cell_type": "code",
   "execution_count": 49,
   "metadata": {},
   "outputs": [
    {
     "data": {
      "text/plain": [
       "4×5 Matrix{Float64}:\n",
       " 0.0  0.0  66.0  0.0  0.0\n",
       " 0.0  0.0   0.0  0.0  0.0\n",
       " 0.0  0.0   0.0  0.0  0.0\n",
       " 0.0  0.0   0.0  0.0  0.0"
      ]
     },
     "execution_count": 49,
     "metadata": {},
     "output_type": "execute_result"
    }
   ],
   "source": [
    "m = zeros( 4,5)\n",
    "m[1,3] = 66\n",
    "m\n",
    "# 1-based numbering"
   ]
  },
  {
   "cell_type": "code",
   "execution_count": 50,
   "metadata": {},
   "outputs": [
    {
     "data": {
      "text/plain": [
       "4-element Vector{Float64}:\n",
       " 66.0\n",
       "  0.0\n",
       "  0.0\n",
       "  0.0"
      ]
     },
     "execution_count": 50,
     "metadata": {},
     "output_type": "execute_result"
    }
   ],
   "source": [
    "m[:,3] #array slicing"
   ]
  },
  {
   "cell_type": "code",
   "execution_count": 51,
   "metadata": {},
   "outputs": [
    {
     "data": {
      "text/plain": [
       "72000000006000000000"
      ]
     },
     "execution_count": 51,
     "metadata": {},
     "output_type": "execute_result"
    }
   ],
   "source": [
    "a = reshape(Int128(1):Int128(12_000_000_000), 3_000, 4_000_000)\n",
    "sum(a)"
   ]
  },
  {
   "cell_type": "code",
   "execution_count": 52,
   "metadata": {},
   "outputs": [
    {
     "data": {
      "text/plain": [
       "3×2 Matrix{Int64}:\n",
       " 7  10\n",
       " 8  11\n",
       " 9  12"
      ]
     },
     "metadata": {},
     "output_type": "display_data"
    },
    {
     "data": {
      "text/plain": [
       "3-element Vector{Int64}:\n",
       " 1\n",
       " 2\n",
       " 3"
      ]
     },
     "metadata": {},
     "output_type": "display_data"
    },
    {
     "data": {
      "text/plain": [
       "4-element Vector{Int64}:\n",
       "  1\n",
       "  4\n",
       "  7\n",
       " 10"
      ]
     },
     "metadata": {},
     "output_type": "display_data"
    }
   ],
   "source": [
    "a = reshape(1:12, 3, 4)\n",
    "display(a[:, 3:end]) # 3x2 matrix\n",
    "display(a[:, 1]) # 3 element vector\n",
    "display(a[1, :]) # 4 element vector\n"
   ]
  },
  {
   "cell_type": "markdown",
   "metadata": {},
   "source": [
    "### Data structures"
   ]
  },
  {
   "cell_type": "code",
   "execution_count": 53,
   "metadata": {
    "scrolled": true
   },
   "outputs": [
    {
     "name": "stdout",
     "output_type": "stream",
     "text": [
      "p = Point1(0, 0.0, \"Origin\")\n",
      "p.x = 0\n",
      "fieldnames(typeof(p)) = (:x, :y, :meta)\n",
      "fieldnames(Point1) = (:x, :y, :meta)\n"
     ]
    }
   ],
   "source": [
    "mutable struct Point1\n",
    "  x::Int\n",
    "  y::Float64\n",
    "  meta\n",
    "end\n",
    "p = Point1(0, 0.0, \"Origin\")\n",
    "@show p\n",
    "@show p.x \t\t# access field\n",
    "p.meta = 2\t\t# change field value\n",
    "@show fieldnames(typeof(p)) # get names of instance fields\n",
    "@show fieldnames(Point1); \t# get names of type fields\n"
   ]
  },
  {
   "cell_type": "code",
   "execution_count": 54,
   "metadata": {},
   "outputs": [
    {
     "data": {
      "text/plain": [
       "(:x, :y, :meta)"
      ]
     },
     "execution_count": 54,
     "metadata": {},
     "output_type": "execute_result"
    }
   ],
   "source": [
    "fieldnames(typeof(p))"
   ]
  },
  {
   "cell_type": "code",
   "execution_count": 55,
   "metadata": {},
   "outputs": [
    {
     "name": "stdout",
     "output_type": "stream",
     "text": [
      "Symbol x\n"
     ]
    }
   ],
   "source": [
    "dump(:x)"
   ]
  },
  {
   "cell_type": "code",
   "execution_count": 56,
   "metadata": {},
   "outputs": [
    {
     "name": "stdout",
     "output_type": "stream",
     "text": [
      "Point1\n",
      "  x: Int64 0\n",
      "  y: Float64 0.0\n",
      "  meta: Int64 2\n"
     ]
    }
   ],
   "source": [
    "dump(p)"
   ]
  },
  {
   "cell_type": "code",
   "execution_count": 57,
   "metadata": {},
   "outputs": [
    {
     "data": {
      "text/plain": [
       "(:x, :y, :meta)"
      ]
     },
     "execution_count": 57,
     "metadata": {},
     "output_type": "execute_result"
    }
   ],
   "source": [
    "fieldnames(typeof(p))"
   ]
  },
  {
   "cell_type": "code",
   "execution_count": 58,
   "metadata": {},
   "outputs": [
    {
     "name": "stdout",
     "output_type": "stream",
     "text": [
      "Symbol a\n"
     ]
    }
   ],
   "source": [
    "dump(:a)"
   ]
  },
  {
   "cell_type": "code",
   "execution_count": 59,
   "metadata": {},
   "outputs": [
    {
     "data": {
      "text/plain": [
       "Point2(999, 2.0, \"Origin\")"
      ]
     },
     "execution_count": 59,
     "metadata": {},
     "output_type": "execute_result"
    }
   ],
   "source": [
    "@kwdef struct Point2\n",
    "  x::Int64 = 1\n",
    "  y::Float64 = 2.0\n",
    "  meta\n",
    "end\n",
    "p2 = Point2(x=999, meta = \"Origin\")"
   ]
  },
  {
   "cell_type": "code",
   "execution_count": 60,
   "metadata": {},
   "outputs": [
    {
     "name": "stdout",
     "output_type": "stream",
     "text": [
      "Point2\n",
      "  x: Int64 999\n",
      "  y: Float64 2.0\n",
      "  meta: String \"Origin\"\n"
     ]
    }
   ],
   "source": [
    "dump(p2)"
   ]
  },
  {
   "cell_type": "code",
   "execution_count": 61,
   "metadata": {},
   "outputs": [
    {
     "name": "stdout",
     "output_type": "stream",
     "text": [
      "ErrorException(\"setfield!: immutable struct of type Point2 cannot be changed\")\n"
     ]
    }
   ],
   "source": [
    "try\n",
    "    p2.x = 33333\n",
    "catch e\n",
    "    println(e)\n",
    "end"
   ]
  },
  {
   "cell_type": "code",
   "execution_count": 62,
   "metadata": {},
   "outputs": [
    {
     "data": {
      "text/plain": [
       "Point3\n",
       "  x: Int64 66\n",
       "  y: Float64 2.0\n",
       "  meta: String \"Origin\"\n"
      ]
     },
     "execution_count": 62,
     "metadata": {},
     "output_type": "execute_result"
    }
   ],
   "source": [
    "using Parameters\n",
    "@with_kw mutable struct Point3\n",
    "  x::Int64 = 1\n",
    "  y::Float64 = 2.0\n",
    "  meta\n",
    "end\n",
    "p3 = Point3(x=999, meta = \"Origin\")\n",
    "p3.x = 66\n",
    "p3"
   ]
  },
  {
   "cell_type": "code",
   "execution_count": 63,
   "metadata": {},
   "outputs": [
    {
     "data": {
      "text/plain": [
       "Point3\n",
       "  x: Int64 11\n",
       "  y: Float64 2.0\n",
       "  meta: String \"ss\"\n"
      ]
     },
     "execution_count": 63,
     "metadata": {},
     "output_type": "execute_result"
    }
   ],
   "source": [
    "Point3(;x=11,meta=\"ss\")"
   ]
  },
  {
   "cell_type": "code",
   "execution_count": 64,
   "metadata": {},
   "outputs": [
    {
     "data": {
      "text/plain": [
       "MyPoint{Int64}(4, 5)"
      ]
     },
     "execution_count": 64,
     "metadata": {},
     "output_type": "execute_result"
    }
   ],
   "source": [
    "struct MyPoint{T <: Real}\n",
    "    x::T\n",
    "    y::T\n",
    "end\n",
    "\n",
    "MyPoint(4,5)"
   ]
  },
  {
   "cell_type": "code",
   "execution_count": 65,
   "metadata": {},
   "outputs": [],
   "source": [
    "mutable struct MyPoint2{T <: Real}\n",
    "    x::T\n",
    "    y::T\n",
    "    z::Union{T,Nothing}\n",
    "end"
   ]
  },
  {
   "cell_type": "markdown",
   "metadata": {},
   "source": [
    "### Dictionaries"
   ]
  },
  {
   "cell_type": "code",
   "execution_count": 66,
   "metadata": {},
   "outputs": [
    {
     "data": {
      "text/plain": [
       "Dict{Int64, Float64} with 2 entries:\n",
       "  5 => 66.6\n",
       "  7 => 99.0"
      ]
     },
     "execution_count": 66,
     "metadata": {},
     "output_type": "execute_result"
    }
   ],
   "source": [
    "x = Dict{Int, Float64}()\n",
    "x[5] = 66.6\n",
    "x[7] = 99\n",
    "\n",
    "x"
   ]
  },
  {
   "cell_type": "code",
   "execution_count": 67,
   "metadata": {},
   "outputs": [
    {
     "name": "stdout",
     "output_type": "stream",
     "text": [
      "Pair{Int64, Int64}\n",
      "  first: Int64 4\n",
      "  second: Int64 7\n"
     ]
    }
   ],
   "source": [
    "dump(4 => 7)"
   ]
  },
  {
   "cell_type": "code",
   "execution_count": 68,
   "metadata": {},
   "outputs": [
    {
     "data": {
      "text/plain": [
       "Dict{Symbol, Int64} with 2 entries:\n",
       "  :cat => 44\n",
       "  :dog => 57"
      ]
     },
     "execution_count": 68,
     "metadata": {},
     "output_type": "execute_result"
    }
   ],
   "source": [
    "y = Dict(:cat => 44, :dog=>57)"
   ]
  },
  {
   "cell_type": "code",
   "execution_count": 69,
   "metadata": {},
   "outputs": [
    {
     "data": {
      "text/plain": [
       "Dict{Any, Any} with 2 entries:\n",
       "  5 => 66.6\n",
       "  7 => 99"
      ]
     },
     "execution_count": 69,
     "metadata": {},
     "output_type": "execute_result"
    }
   ],
   "source": [
    "x2 = Dict{Any, Any}()\n",
    "x2[5] = 66.6\n",
    "x2[7] = 99\n",
    "\n",
    "x2"
   ]
  },
  {
   "cell_type": "code",
   "execution_count": 70,
   "metadata": {},
   "outputs": [
    {
     "data": {
      "text/plain": [
       "KeySet for a Dict{Symbol, Int64} with 2 entries. Keys:\n",
       "  :cat\n",
       "  :dog"
      ]
     },
     "execution_count": 70,
     "metadata": {},
     "output_type": "execute_result"
    }
   ],
   "source": [
    "keys(y)"
   ]
  },
  {
   "cell_type": "code",
   "execution_count": 71,
   "metadata": {},
   "outputs": [
    {
     "data": {
      "text/plain": [
       "Dict{Int64, Int64} with 1 entry:\n",
       "  1 => 999"
      ]
     },
     "execution_count": 71,
     "metadata": {},
     "output_type": "execute_result"
    }
   ],
   "source": [
    "Dict(1=>1, 1=>999)"
   ]
  },
  {
   "cell_type": "code",
   "execution_count": 72,
   "metadata": {},
   "outputs": [
    {
     "name": "stdout",
     "output_type": "stream",
     "text": [
      "(a, b) = (:cat, 44)\n",
      "(a, b) = (:dog, 57)\n"
     ]
    }
   ],
   "source": [
    "for (a, b) in y\n",
    "    @show a, b\n",
    "    \n",
    "end"
   ]
  },
  {
   "cell_type": "code",
   "execution_count": 73,
   "metadata": {},
   "outputs": [
    {
     "data": {
      "text/plain": [
       "44"
      ]
     },
     "execution_count": 73,
     "metadata": {},
     "output_type": "execute_result"
    }
   ],
   "source": [
    "y[:cat]"
   ]
  },
  {
   "cell_type": "code",
   "execution_count": 74,
   "metadata": {},
   "outputs": [
    {
     "data": {
      "text/plain": [
       "Pair{Int64, Int64}"
      ]
     },
     "execution_count": 74,
     "metadata": {},
     "output_type": "execute_result"
    }
   ],
   "source": [
    "typeof(1=>5)"
   ]
  },
  {
   "cell_type": "code",
   "execution_count": 75,
   "metadata": {},
   "outputs": [
    {
     "data": {
      "text/plain": [
       "Dict{Int64, Float64} with 2 entries:\n",
       "  2 => 4.5\n",
       "  1 => 5.5"
      ]
     },
     "execution_count": 75,
     "metadata": {},
     "output_type": "execute_result"
    }
   ],
   "source": [
    "y = Dict(1=>5.5, 2=>4.5)"
   ]
  },
  {
   "cell_type": "code",
   "execution_count": 76,
   "metadata": {},
   "outputs": [
    {
     "name": "stdout",
     "output_type": "stream",
     "text": [
      "y[2] = 4.5\n",
      "y[3] = 30.0 = 30.0\n",
      "haskey(y, 2) = true\n",
      "(keys(y), values(y)) = ([2, 3, 1], [4.5, 30.0, 5.5])\n",
      "delete!(y, 2) = Dict(3 => 30.0, 1 => 5.5)\n",
      "get(y, 2, 777) = 777\n"
     ]
    },
    {
     "data": {
      "text/plain": [
       "777"
      ]
     },
     "execution_count": 76,
     "metadata": {},
     "output_type": "execute_result"
    }
   ],
   "source": [
    "x = Dict{Int, Float64}() # empty dictionary mapping integers to floats\n",
    "y = Dict(1=>5.5, 2=>4.5) \t# created dictionary\n",
    "@show y[2] \t\t\t\t\t# get element\n",
    "@show y[3] = 30.0 \t\t\t# add element\n",
    "@show haskey(y, 2) \t\t\t# check if key exists\n",
    "@show keys(y), values(y) # iterators returning dictionary keys and values\n",
    "@show delete!(y, 2)   # removing elements see also: pop!\n",
    "@show get(y, 2, 777) # returns y[2] or 777 if not haskey(y,2)\n"
   ]
  },
  {
   "cell_type": "markdown",
   "metadata": {},
   "source": [
    "### Text processing"
   ]
  },
  {
   "cell_type": "code",
   "execution_count": 77,
   "metadata": {},
   "outputs": [
    {
     "name": "stdout",
     "output_type": "stream",
     "text": [
      "\"$(x) + 3 = $(x + 3)  3\\$\" = \"123 + 3 = 126  3\\$\"\n"
     ]
    },
    {
     "data": {
      "text/plain": [
       "\"123 + 3 = 126  3\\$\""
      ]
     },
     "execution_count": 77,
     "metadata": {},
     "output_type": "execute_result"
    }
   ],
   "source": [
    "x = 123\n",
    "@show \"$x + 3 = $(x+3)  3\\$\""
   ]
  },
  {
   "cell_type": "code",
   "execution_count": 78,
   "metadata": {},
   "outputs": [
    {
     "name": "stdout",
     "output_type": "stream",
     "text": [
      "\"Hi \" * \"there!\" = \"Hi there!\"\n",
      "\"Ho \" ^ 3 = \"Ho Ho Ho \"\n",
      "string(\"a= \", 123.3) = \"a= 123.3\"\n",
      "occursin(\"CD\", \"ABCD\") = true\n",
      "\"\\\"\\n\\t\\$\" = \"\\\"\\n\\t\\$\"\n",
      "\"$(x) + 3 = $(x + 3)\" = \"123 + 3 = 126\"\n",
      "\"\\$199\" = \"\\$199\"\n",
      "occursin(r, \"CD\") = false\n",
      "m = match(r, \"ACBD\") = RegexMatch(\"A\")\n"
     ]
    }
   ],
   "source": [
    "@show \"Hi \" * \"there!\" \t\t# concatenation\n",
    "@show \"Ho \" ^ 3 \t\t\t# multiplication\n",
    "@show string(\"a= \", 123.3) \t# joining elements to text\n",
    "@show occursin(\"CD\",\"ABCD\") \t# occurence\n",
    "@show \"\\\"\\n\\t\\$\" # C-like escaping, additionally escape \\$\n",
    "                          # escaping - similiar to Matlab, Python, R\n",
    "x = 123\n",
    "@show \"$x + 3 = $(x+3)\"  # $ is an interpolation operator\n",
    "@show \"\\$199\" # that is why you need escaping\n",
    "\n",
    "r = r\"A|B\" # full support for regular expressions\n",
    "@show occursin(r, \"CD\") # false, not found\n",
    "@show m = match(r, \"ACBD\"); # first regexp match\n"
   ]
  },
  {
   "cell_type": "code",
   "execution_count": 79,
   "metadata": {},
   "outputs": [
    {
     "data": {
      "text/plain": [
       "\"hello 6 and 48\""
      ]
     },
     "execution_count": 79,
     "metadata": {},
     "output_type": "execute_result"
    }
   ],
   "source": [
    "\n",
    "x = 6\n",
    "\n",
    "tekst = \"hello $x and $(x*x+2x)\""
   ]
  },
  {
   "cell_type": "code",
   "execution_count": 80,
   "metadata": {},
   "outputs": [
    {
     "data": {
      "text/plain": [
       "\"c:\\\\windows\\\\newfolfder\""
      ]
     },
     "execution_count": 80,
     "metadata": {},
     "output_type": "execute_result"
    }
   ],
   "source": [
    "str = raw\"c:\\windows\\newfolfder\""
   ]
  },
  {
   "cell_type": "markdown",
   "metadata": {},
   "source": [
    "Note that `?` magic comment works only in Jupyter Notebook (not in Visual Studio Code)"
   ]
  },
  {
   "cell_type": "code",
   "execution_count": 81,
   "metadata": {},
   "outputs": [
    {
     "data": {
      "text/latex": [
       "\\begin{verbatim}\n",
       "@raw_str -> String\n",
       "\\end{verbatim}\n",
       "Create a raw string without interpolation and unescaping. The exception is that quotation marks still must be escaped. Backslashes escape both quotation marks and other backslashes, but only when a sequence of backslashes precedes a quote character. Thus, 2n backslashes followed by a quote encodes n backslashes and the end of the literal while 2n+1 backslashes followed by a quote encodes n backslashes followed by a quote character.\n",
       "\n",
       "\\section{Examples}\n",
       "\\begin{verbatim}\n",
       "julia> println(raw\"\\ $x\")\n",
       "\\ $x\n",
       "\n",
       "julia> println(raw\"\\\"\")\n",
       "\"\n",
       "\n",
       "julia> println(raw\"\\\\\\\"\")\n",
       "\\\"\n",
       "\n",
       "julia> println(raw\"\\\\x \\\\\\\"\")\n",
       "\\\\x \\\"\n",
       "\\end{verbatim}\n"
      ],
      "text/markdown": [
       "```\n",
       "@raw_str -> String\n",
       "```\n",
       "\n",
       "Create a raw string without interpolation and unescaping. The exception is that quotation marks still must be escaped. Backslashes escape both quotation marks and other backslashes, but only when a sequence of backslashes precedes a quote character. Thus, 2n backslashes followed by a quote encodes n backslashes and the end of the literal while 2n+1 backslashes followed by a quote encodes n backslashes followed by a quote character.\n",
       "\n",
       "# Examples\n",
       "\n",
       "```jldoctest\n",
       "julia> println(raw\"\\ $x\")\n",
       "\\ $x\n",
       "\n",
       "julia> println(raw\"\\\"\")\n",
       "\"\n",
       "\n",
       "julia> println(raw\"\\\\\\\"\")\n",
       "\\\"\n",
       "\n",
       "julia> println(raw\"\\\\x \\\\\\\"\")\n",
       "\\\\x \\\"\n",
       "```\n"
      ],
      "text/plain": [
       "\u001b[36m  @raw_str -> String\u001b[39m\n",
       "\n",
       "  Create a raw string without interpolation and unescaping. The exception is\n",
       "  that quotation marks still must be escaped. Backslashes escape both\n",
       "  quotation marks and other backslashes, but only when a sequence of\n",
       "  backslashes precedes a quote character. Thus, 2n backslashes followed by a\n",
       "  quote encodes n backslashes and the end of the literal while 2n+1\n",
       "  backslashes followed by a quote encodes n backslashes followed by a quote\n",
       "  character.\n",
       "\n",
       "\u001b[1m  Examples\u001b[22m\n",
       "\u001b[1m  ≡≡≡≡≡≡≡≡\u001b[22m\n",
       "\n",
       "\u001b[36m  julia> println(raw\"\\ $x\")\u001b[39m\n",
       "\u001b[36m  \\ $x\u001b[39m\n",
       "\u001b[36m  \u001b[39m\n",
       "\u001b[36m  julia> println(raw\"\\\"\")\u001b[39m\n",
       "\u001b[36m  \"\u001b[39m\n",
       "\u001b[36m  \u001b[39m\n",
       "\u001b[36m  julia> println(raw\"\\\\\\\"\")\u001b[39m\n",
       "\u001b[36m  \\\"\u001b[39m\n",
       "\u001b[36m  \u001b[39m\n",
       "\u001b[36m  julia> println(raw\"\\\\x \\\\\\\"\")\u001b[39m\n",
       "\u001b[36m  \\\\x \\\"\u001b[39m"
      ]
     },
     "execution_count": 81,
     "metadata": {},
     "output_type": "execute_result"
    }
   ],
   "source": [
    "?@raw_str"
   ]
  },
  {
   "cell_type": "markdown",
   "metadata": {},
   "source": [
    "### Functions"
   ]
  },
  {
   "cell_type": "code",
   "execution_count": 82,
   "metadata": {},
   "outputs": [
    {
     "name": "stdout",
     "output_type": "stream",
     "text": [
      "f(3, 2) = 5\n",
      "f(3) = (a = 3, b = 8)\n"
     ]
    },
    {
     "data": {
      "text/plain": [
       "(a = 3, b = 8)"
      ]
     },
     "execution_count": 82,
     "metadata": {},
     "output_type": "execute_result"
    }
   ],
   "source": [
    "f(x, y = 10) = x + y\n",
    "# for this function the default value of y is 10\n",
    "@show f(3, 2) # 5 is returned\n",
    "@show f(3)    # 13 is returned\n"
   ]
  },
  {
   "cell_type": "code",
   "execution_count": 83,
   "metadata": {},
   "outputs": [
    {
     "data": {
      "text/html": [
       "# 4 methods for generic function <b>g</b> from \u001b[35mMain\u001b[39m:<ul><li> g(x::<b>Int64</b>, y::<b>Bool</b>) in Main at In[83]:5</li> <li> g(x::<b>Int64</b>, y::<b>Int64</b>) in Main at In[83]:1</li> <li> g(x::<b>Real</b>, y::<b>Real</b>) in Main at In[83]:7</li> <li> g(x, y) in Main at In[83]:6</li> </ul>"
      ],
      "text/plain": [
       "# 4 methods for generic function \"g\" from \u001b[35mMain\u001b[39m:\n",
       " [1] g(\u001b[90mx\u001b[39m::\u001b[1mInt64\u001b[22m, \u001b[90my\u001b[39m::\u001b[1mBool\u001b[22m)\n",
       "\u001b[90m     @\u001b[39m \u001b[90m\u001b[4mIn[83]:5\u001b[24m\u001b[39m\n",
       " [2] g(\u001b[90mx\u001b[39m::\u001b[1mInt64\u001b[22m, \u001b[90my\u001b[39m::\u001b[1mInt64\u001b[22m)\n",
       "\u001b[90m     @\u001b[39m \u001b[90m\u001b[4mIn[83]:1\u001b[24m\u001b[39m\n",
       " [3] g(\u001b[90mx\u001b[39m::\u001b[1mReal\u001b[22m, \u001b[90my\u001b[39m::\u001b[1mReal\u001b[22m)\n",
       "\u001b[90m     @\u001b[39m \u001b[90m\u001b[4mIn[83]:7\u001b[24m\u001b[39m\n",
       " [4] g(\u001b[90mx\u001b[39m, \u001b[90my\u001b[39m)\n",
       "\u001b[90m     @\u001b[39m \u001b[90m\u001b[4mIn[83]:6\u001b[24m\u001b[39m"
      ]
     },
     "execution_count": 83,
     "metadata": {},
     "output_type": "execute_result"
    }
   ],
   "source": [
    "function g(x::Int, y::Int) # limit arg type\n",
    "  return y, x # tuple returned\n",
    "end\n",
    "\n",
    "g(x::Int, y::Bool) = x * y # multiple dispatch\n",
    "g(x, y) = x - y\n",
    "g(x::Real, y::Real) = x - y\n",
    "\n",
    "methods(g) # list of methods for g\n"
   ]
  },
  {
   "cell_type": "code",
   "execution_count": 84,
   "metadata": {},
   "outputs": [
    {
     "name": "stdout",
     "output_type": "stream",
     "text": [
      "g(1, 2) = (2, 1)\n",
      "g(1, true) = 1\n"
     ]
    },
    {
     "data": {
      "text/plain": [
       "1"
      ]
     },
     "execution_count": 84,
     "metadata": {},
     "output_type": "execute_result"
    }
   ],
   "source": [
    "function g(x::Int, y::Int) # limit arg type\n",
    "  return y, x # tuple returned\n",
    "end\n",
    "\n",
    "g(x::Int, y::Bool) = x * y # multiple dispatch\n",
    "\n",
    "@show g(1,2)\n",
    "@show g(1, true)\n"
   ]
  },
  {
   "cell_type": "code",
   "execution_count": 85,
   "metadata": {},
   "outputs": [
    {
     "data": {
      "text/html": [
       "# 4 methods for generic function <b>g</b> from \u001b[35mMain\u001b[39m:<ul><li> g(x::<b>Int64</b>, y::<b>Bool</b>) in Main at In[84]:5</li> <li> g(x::<b>Int64</b>, y::<b>Int64</b>) in Main at In[84]:1</li> <li> g(x::<b>Real</b>, y::<b>Real</b>) in Main at In[83]:7</li> <li> g(x, y) in Main at In[83]:6</li> </ul>"
      ],
      "text/plain": [
       "# 4 methods for generic function \"g\" from \u001b[35mMain\u001b[39m:\n",
       " [1] g(\u001b[90mx\u001b[39m::\u001b[1mInt64\u001b[22m, \u001b[90my\u001b[39m::\u001b[1mBool\u001b[22m)\n",
       "\u001b[90m     @\u001b[39m \u001b[90m\u001b[4mIn[84]:5\u001b[24m\u001b[39m\n",
       " [2] g(\u001b[90mx\u001b[39m::\u001b[1mInt64\u001b[22m, \u001b[90my\u001b[39m::\u001b[1mInt64\u001b[22m)\n",
       "\u001b[90m     @\u001b[39m \u001b[90m\u001b[4mIn[84]:1\u001b[24m\u001b[39m\n",
       " [3] g(\u001b[90mx\u001b[39m::\u001b[1mReal\u001b[22m, \u001b[90my\u001b[39m::\u001b[1mReal\u001b[22m)\n",
       "\u001b[90m     @\u001b[39m \u001b[90m\u001b[4mIn[83]:7\u001b[24m\u001b[39m\n",
       " [4] g(\u001b[90mx\u001b[39m, \u001b[90my\u001b[39m)\n",
       "\u001b[90m     @\u001b[39m \u001b[90m\u001b[4mIn[83]:6\u001b[24m\u001b[39m"
      ]
     },
     "execution_count": 85,
     "metadata": {},
     "output_type": "execute_result"
    }
   ],
   "source": [
    "methods(g)"
   ]
  },
  {
   "cell_type": "code",
   "execution_count": 86,
   "metadata": {},
   "outputs": [
    {
     "name": "stdout",
     "output_type": "stream",
     "text": [
      "g(1, 4) = (4, 1)\n",
      "g(1, true) = 1\n"
     ]
    },
    {
     "data": {
      "text/html": [
       "# 4 methods for generic function <b>g</b> from \u001b[35mMain\u001b[39m:<ul><li> g(x::<b>Int64</b>, y::<b>Bool</b>) in Main at In[84]:5</li> <li> g(x::<b>Int64</b>, y::<b>Int64</b>) in Main at In[84]:1</li> <li> g(x::<b>Real</b>, y::<b>Real</b>) in Main at In[83]:7</li> <li> g(x, y) in Main at In[83]:6</li> </ul>"
      ],
      "text/plain": [
       "# 4 methods for generic function \"g\" from \u001b[35mMain\u001b[39m:\n",
       " [1] g(\u001b[90mx\u001b[39m::\u001b[1mInt64\u001b[22m, \u001b[90my\u001b[39m::\u001b[1mBool\u001b[22m)\n",
       "\u001b[90m     @\u001b[39m \u001b[90m\u001b[4mIn[84]:5\u001b[24m\u001b[39m\n",
       " [2] g(\u001b[90mx\u001b[39m::\u001b[1mInt64\u001b[22m, \u001b[90my\u001b[39m::\u001b[1mInt64\u001b[22m)\n",
       "\u001b[90m     @\u001b[39m \u001b[90m\u001b[4mIn[84]:1\u001b[24m\u001b[39m\n",
       " [3] g(\u001b[90mx\u001b[39m::\u001b[1mReal\u001b[22m, \u001b[90my\u001b[39m::\u001b[1mReal\u001b[22m)\n",
       "\u001b[90m     @\u001b[39m \u001b[90m\u001b[4mIn[83]:7\u001b[24m\u001b[39m\n",
       " [4] g(\u001b[90mx\u001b[39m, \u001b[90my\u001b[39m)\n",
       "\u001b[90m     @\u001b[39m \u001b[90m\u001b[4mIn[83]:6\u001b[24m\u001b[39m"
      ]
     },
     "execution_count": 86,
     "metadata": {},
     "output_type": "execute_result"
    }
   ],
   "source": [
    "@show g(1,4)\n",
    "@show g(1,true)\n",
    "methods(g)"
   ]
  },
  {
   "cell_type": "markdown",
   "metadata": {},
   "source": [
    "### Operators"
   ]
  },
  {
   "cell_type": "code",
   "execution_count": 87,
   "metadata": {},
   "outputs": [
    {
     "data": {
      "text/plain": [
       "10-element Vector{Int64}:\n",
       "  1\n",
       "  2\n",
       "  3\n",
       "  4\n",
       "  5\n",
       "  6\n",
       "  7\n",
       "  8\n",
       "  9\n",
       " 10"
      ]
     },
     "execution_count": 87,
     "metadata": {},
     "output_type": "execute_result"
    }
   ],
   "source": [
    "y = collect(1:10)\n"
   ]
  },
  {
   "cell_type": "code",
   "execution_count": 88,
   "metadata": {},
   "outputs": [
    {
     "data": {
      "text/plain": [
       "1×10 Matrix{Int64}:\n",
       " 1  2  3  4  5  6  7  8  9  10"
      ]
     },
     "execution_count": 88,
     "metadata": {},
     "output_type": "execute_result"
    }
   ],
   "source": [
    "collect(y')"
   ]
  },
  {
   "cell_type": "code",
   "execution_count": 89,
   "metadata": {},
   "outputs": [
    {
     "data": {
      "text/plain": [
       "1×2 BitMatrix:\n",
       " 1  0"
      ]
     },
     "execution_count": 89,
     "metadata": {},
     "output_type": "execute_result"
    }
   ],
   "source": [
    "[1 2] .< [2 1]"
   ]
  },
  {
   "cell_type": "code",
   "execution_count": 90,
   "metadata": {},
   "outputs": [
    {
     "name": "stdout",
     "output_type": "stream",
     "text": [
      "true || false = true\n",
      "1 < 2 < 3 = true\n",
      "[1 2] .< [2 1] = Bool[1 0]\n",
      "a = 5 = 5\n",
      "2a + 2 * (a + 1) = 22\n",
      "x = [1 2 3] = [1 2 3]\n",
      "y = [1, 2, 3] = [1, 2, 3]\n",
      "x .+ y = [2 3 4; 3 4 5; 4 5 6]\n",
      "x + y' = [2 4 6]\n",
      "x * y = [14]\n"
     ]
    },
    {
     "data": {
      "text/plain": [
       "1-element Vector{Int64}:\n",
       " 14"
      ]
     },
     "execution_count": 90,
     "metadata": {},
     "output_type": "execute_result"
    }
   ],
   "source": [
    "@show true || false # binary or operator (singeltons only)\n",
    "@show 1 < 2 < 3     # condition chaining  is OK\n",
    "@show [1 2] .< [2 1] # vectorization via dot operator \".\"\n",
    "@show a = 5\n",
    "@show 2a + 2(a+1) # multiplication can be ommited\n",
    "@show x = [1 2 3]\t  #matrix 1×3 Array{Int64,2}\n",
    "@show y = [1, 2, 3]  #matrix 3-elements Array{Int64,1}\n",
    "# vectors are vecticar and are different concept than horizontal 1-row matrix\n",
    "#x + y # error\n",
    "@show x .+ y # 3x3 matrix, dimension broadcasting\n",
    "@show x + y' # 1x3 matrix\n",
    "@show x * y; # array multiplication, 1-element vector (not scalar)\n"
   ]
  },
  {
   "cell_type": "code",
   "execution_count": 91,
   "metadata": {},
   "outputs": [
    {
     "data": {
      "text/plain": [
       "f (generic function with 3 methods)"
      ]
     },
     "execution_count": 91,
     "metadata": {},
     "output_type": "execute_result"
    }
   ],
   "source": [
    "f(x,y) =  x<y ? x : y"
   ]
  },
  {
   "cell_type": "code",
   "execution_count": 92,
   "metadata": {},
   "outputs": [
    {
     "data": {
      "text/plain": [
       "10"
      ]
     },
     "execution_count": 92,
     "metadata": {},
     "output_type": "execute_result"
    }
   ],
   "source": [
    "f(10,30)"
   ]
  },
  {
   "cell_type": "code",
   "execution_count": 93,
   "metadata": {},
   "outputs": [
    {
     "data": {
      "text/plain": [
       "3-element Vector{Int64}:\n",
       " 0\n",
       " 5\n",
       " 6"
      ]
     },
     "execution_count": 93,
     "metadata": {},
     "output_type": "execute_result"
    }
   ],
   "source": [
    "a=  [1,2,3]\n",
    "b=  [0,5,6]"
   ]
  },
  {
   "cell_type": "code",
   "execution_count": 94,
   "metadata": {},
   "outputs": [
    {
     "data": {
      "text/plain": [
       "3-element Vector{Int64}:\n",
       " 0\n",
       " 2\n",
       " 3"
      ]
     },
     "execution_count": 94,
     "metadata": {},
     "output_type": "execute_result"
    }
   ],
   "source": [
    "f.(a,b)"
   ]
  },
  {
   "cell_type": "code",
   "execution_count": 95,
   "metadata": {},
   "outputs": [
    {
     "data": {
      "text/plain": [
       "3-element Vector{Int64}:\n",
       "  0\n",
       " 10\n",
       " 18"
      ]
     },
     "execution_count": 95,
     "metadata": {},
     "output_type": "execute_result"
    }
   ],
   "source": [
    "a .* b"
   ]
  },
  {
   "cell_type": "markdown",
   "metadata": {},
   "source": [
    "### Python integration"
   ]
  },
  {
   "cell_type": "code",
   "execution_count": 96,
   "metadata": {},
   "outputs": [
    {
     "name": "stdout",
     "output_type": "stream",
     "text": [
      "C:\\AAABIBLIOTEKA\\NCN2\\SSC2024\\2024_Julia_Krakow\\1_Basics\n"
     ]
    }
   ],
   "source": [
    "println(pwd())"
   ]
  },
  {
   "cell_type": "code",
   "execution_count": 97,
   "metadata": {},
   "outputs": [
    {
     "name": "stderr",
     "output_type": "stream",
     "text": [
      "\u001b[92mCondaPkg Status\u001b[39m\u001b[0m\u001b[1m C:\\AAABIBLIOTEKA\\NCN2\\SSC2024\\2024_Julia_Krakow\\CondaPkg.toml\u001b[22m\n",
      "\u001b[36m\u001b[1mEnvironment\u001b[22m\u001b[39m\n",
      "  C:\\AAABIBLIOTEKA\\NCN2\\SSC2024\\2024_Julia_Krakow\\.CondaPkg\\env\n",
      "\u001b[36m\u001b[1mPackages\u001b[22m\u001b[39m\n",
      "  folium v0.17.0\n",
      "  jupyter v1.1.1\n",
      "\u001b[36m\u001b[1mChannels\u001b[22m\u001b[39m\n",
      "  conda-forge\n"
     ]
    }
   ],
   "source": [
    "using CondaPkg, Pkg\n",
    "pkg\"conda status\"\n"
   ]
  },
  {
   "cell_type": "code",
   "execution_count": 98,
   "metadata": {},
   "outputs": [
    {
     "data": {
      "text/plain": [
       "Python: <module 'sys' (built-in)>"
      ]
     },
     "execution_count": 98,
     "metadata": {},
     "output_type": "execute_result"
    }
   ],
   "source": [
    "using PythonCall\n",
    "sys = pyimport(\"sys\")"
   ]
  },
  {
   "cell_type": "code",
   "execution_count": 99,
   "metadata": {},
   "outputs": [
    {
     "data": {
      "text/plain": [
       "Python: 'C:\\\\AAABIBLIOTEKA\\\\NCN2\\\\SSC2024\\\\2024_Julia_Krakow\\\\.CondaPkg\\\\env\\\\python.exe'"
      ]
     },
     "execution_count": 99,
     "metadata": {},
     "output_type": "execute_result"
    }
   ],
   "source": [
    "pth = sys.executable"
   ]
  },
  {
   "cell_type": "code",
   "execution_count": 100,
   "metadata": {},
   "outputs": [
    {
     "data": {
      "text/plain": [
       "Py"
      ]
     },
     "execution_count": 100,
     "metadata": {},
     "output_type": "execute_result"
    }
   ],
   "source": [
    "typeof(pth)"
   ]
  },
  {
   "cell_type": "code",
   "execution_count": 101,
   "metadata": {},
   "outputs": [
    {
     "data": {
      "text/plain": [
       "\"C:\\\\AAABIBLIOTEKA\\\\NCN2\\\\SSC2024\\\\2024_Julia_Krakow\\\\.CondaPkg\\\\env\\\\python.exe\""
      ]
     },
     "execution_count": 101,
     "metadata": {},
     "output_type": "execute_result"
    }
   ],
   "source": [
    "string(pth)"
   ]
  },
  {
   "cell_type": "code",
   "execution_count": 102,
   "metadata": {},
   "outputs": [
    {
     "data": {
      "text/plain": [
       "Python: {(1, 1): 1, (1, 2): 2, (2, 1): 2, (2, 2): 4, (3, 1): 3, (3, 2): 6, (4, 1): 4, (4, 2): 8}"
      ]
     },
     "execution_count": 102,
     "metadata": {},
     "output_type": "execute_result"
    }
   ],
   "source": [
    "b = @pyeval(\"{ (x,y):x*y for x in range(1,5) for y in range(1,3) }\")"
   ]
  },
  {
   "cell_type": "code",
   "execution_count": 103,
   "metadata": {},
   "outputs": [
    {
     "data": {
      "text/plain": [
       "Dict{Tuple{Int64, Int64}, Int64} with 8 entries:\n",
       "  (3, 2) => 6\n",
       "  (1, 2) => 2\n",
       "  (3, 1) => 3\n",
       "  (1, 1) => 1\n",
       "  (4, 2) => 8\n",
       "  (4, 1) => 4\n",
       "  (2, 2) => 4\n",
       "  (2, 1) => 2"
      ]
     },
     "execution_count": 103,
     "metadata": {},
     "output_type": "execute_result"
    }
   ],
   "source": [
    "@pyconvert(Dict, b)"
   ]
  },
  {
   "cell_type": "code",
   "execution_count": null,
   "metadata": {},
   "outputs": [],
   "source": []
  },
  {
   "cell_type": "code",
   "execution_count": null,
   "metadata": {},
   "outputs": [],
   "source": []
  },
  {
   "cell_type": "code",
   "execution_count": null,
   "metadata": {},
   "outputs": [],
   "source": []
  }
 ],
 "metadata": {
  "kernelspec": {
   "display_name": "Julia 1.10.5",
   "language": "julia",
   "name": "julia-1.10"
  },
  "language_info": {
   "file_extension": ".jl",
   "mimetype": "application/julia",
   "name": "julia",
   "version": "1.10.5"
  }
 },
 "nbformat": 4,
 "nbformat_minor": 4
}
